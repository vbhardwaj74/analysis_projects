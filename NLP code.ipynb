{
 "cells": [
  {
   "cell_type": "code",
   "execution_count": 1,
   "metadata": {},
   "outputs": [
    {
     "name": "stderr",
     "output_type": "stream",
     "text": [
      "[nltk_data] Downloading package stopwords to\n",
      "[nltk_data]     /Users/visualboardwalk/nltk_data...\n",
      "[nltk_data]   Package stopwords is already up-to-date!\n"
     ]
    }
   ],
   "source": [
    "%matplotlib inline\n",
    "import sys, re\n",
    "import numpy as np\n",
    "import pandas as pd\n",
    "import csv\n",
    "import nltk\n",
    "from bs4 import BeautifulSoup\n",
    "import string\n",
    "import nltk\n",
    "nltk.download('stopwords')\n",
    "from nltk.corpus import stopwords\n",
    "from nltk.tokenize import RegexpTokenizer\n",
    "from nltk.stem import WordNetLemmatizer\n",
    "from nltk.stem.porter import PorterStemmer\n",
    "from matplotlib import pyplot as plt\n",
    "pd.options.display.max_rows = 4000"
   ]
  },
  {
   "cell_type": "code",
   "execution_count": 2,
   "metadata": {},
   "outputs": [
    {
     "ename": "FileNotFoundError",
     "evalue": "[Errno 2] No such file or directory: '/Volumes/GoogleDrive/Shared drives/MediSprout/vishaal/MediSprout-notebooks/NLP Analysis/survey_data.csv'",
     "output_type": "error",
     "traceback": [
      "\u001b[0;31m---------------------------------------------------------------------------\u001b[0m",
      "\u001b[0;31mFileNotFoundError\u001b[0m                         Traceback (most recent call last)",
      "\u001b[0;32m<ipython-input-2-381e1207f215>\u001b[0m in \u001b[0;36m<module>\u001b[0;34m\u001b[0m\n\u001b[1;32m      1\u001b[0m \u001b[0mpd\u001b[0m\u001b[0;34m.\u001b[0m\u001b[0moptions\u001b[0m\u001b[0;34m.\u001b[0m\u001b[0mdisplay\u001b[0m\u001b[0;34m.\u001b[0m\u001b[0mmax_rows\u001b[0m \u001b[0;34m=\u001b[0m \u001b[0;36m4000\u001b[0m\u001b[0;34m\u001b[0m\u001b[0;34m\u001b[0m\u001b[0m\n\u001b[0;32m----> 2\u001b[0;31m \u001b[0msurvey_data\u001b[0m \u001b[0;34m=\u001b[0m \u001b[0mpd\u001b[0m\u001b[0;34m.\u001b[0m\u001b[0mread_csv\u001b[0m\u001b[0;34m(\u001b[0m\u001b[0;34mr'/Volumes/GoogleDrive/Shared drives/MediSprout/vishaal/MediSprout-notebooks/NLP Analysis/survey_data.csv'\u001b[0m\u001b[0;34m)\u001b[0m\u001b[0;34m\u001b[0m\u001b[0;34m\u001b[0m\u001b[0m\n\u001b[0m\u001b[1;32m      3\u001b[0m \u001b[0msurvey_data\u001b[0m\u001b[0;34m\u001b[0m\u001b[0;34m\u001b[0m\u001b[0m\n",
      "\u001b[0;32m~/anaconda3/lib/python3.8/site-packages/pandas/io/parsers.py\u001b[0m in \u001b[0;36mread_csv\u001b[0;34m(filepath_or_buffer, sep, delimiter, header, names, index_col, usecols, squeeze, prefix, mangle_dupe_cols, dtype, engine, converters, true_values, false_values, skipinitialspace, skiprows, skipfooter, nrows, na_values, keep_default_na, na_filter, verbose, skip_blank_lines, parse_dates, infer_datetime_format, keep_date_col, date_parser, dayfirst, cache_dates, iterator, chunksize, compression, thousands, decimal, lineterminator, quotechar, quoting, doublequote, escapechar, comment, encoding, dialect, error_bad_lines, warn_bad_lines, delim_whitespace, low_memory, memory_map, float_precision)\u001b[0m\n\u001b[1;32m    684\u001b[0m     )\n\u001b[1;32m    685\u001b[0m \u001b[0;34m\u001b[0m\u001b[0m\n\u001b[0;32m--> 686\u001b[0;31m     \u001b[0;32mreturn\u001b[0m \u001b[0m_read\u001b[0m\u001b[0;34m(\u001b[0m\u001b[0mfilepath_or_buffer\u001b[0m\u001b[0;34m,\u001b[0m \u001b[0mkwds\u001b[0m\u001b[0;34m)\u001b[0m\u001b[0;34m\u001b[0m\u001b[0;34m\u001b[0m\u001b[0m\n\u001b[0m\u001b[1;32m    687\u001b[0m \u001b[0;34m\u001b[0m\u001b[0m\n\u001b[1;32m    688\u001b[0m \u001b[0;34m\u001b[0m\u001b[0m\n",
      "\u001b[0;32m~/anaconda3/lib/python3.8/site-packages/pandas/io/parsers.py\u001b[0m in \u001b[0;36m_read\u001b[0;34m(filepath_or_buffer, kwds)\u001b[0m\n\u001b[1;32m    450\u001b[0m \u001b[0;34m\u001b[0m\u001b[0m\n\u001b[1;32m    451\u001b[0m     \u001b[0;31m# Create the parser.\u001b[0m\u001b[0;34m\u001b[0m\u001b[0;34m\u001b[0m\u001b[0;34m\u001b[0m\u001b[0m\n\u001b[0;32m--> 452\u001b[0;31m     \u001b[0mparser\u001b[0m \u001b[0;34m=\u001b[0m \u001b[0mTextFileReader\u001b[0m\u001b[0;34m(\u001b[0m\u001b[0mfp_or_buf\u001b[0m\u001b[0;34m,\u001b[0m \u001b[0;34m**\u001b[0m\u001b[0mkwds\u001b[0m\u001b[0;34m)\u001b[0m\u001b[0;34m\u001b[0m\u001b[0;34m\u001b[0m\u001b[0m\n\u001b[0m\u001b[1;32m    453\u001b[0m \u001b[0;34m\u001b[0m\u001b[0m\n\u001b[1;32m    454\u001b[0m     \u001b[0;32mif\u001b[0m \u001b[0mchunksize\u001b[0m \u001b[0;32mor\u001b[0m \u001b[0miterator\u001b[0m\u001b[0;34m:\u001b[0m\u001b[0;34m\u001b[0m\u001b[0;34m\u001b[0m\u001b[0m\n",
      "\u001b[0;32m~/anaconda3/lib/python3.8/site-packages/pandas/io/parsers.py\u001b[0m in \u001b[0;36m__init__\u001b[0;34m(self, f, engine, **kwds)\u001b[0m\n\u001b[1;32m    944\u001b[0m             \u001b[0mself\u001b[0m\u001b[0;34m.\u001b[0m\u001b[0moptions\u001b[0m\u001b[0;34m[\u001b[0m\u001b[0;34m\"has_index_names\"\u001b[0m\u001b[0;34m]\u001b[0m \u001b[0;34m=\u001b[0m \u001b[0mkwds\u001b[0m\u001b[0;34m[\u001b[0m\u001b[0;34m\"has_index_names\"\u001b[0m\u001b[0;34m]\u001b[0m\u001b[0;34m\u001b[0m\u001b[0;34m\u001b[0m\u001b[0m\n\u001b[1;32m    945\u001b[0m \u001b[0;34m\u001b[0m\u001b[0m\n\u001b[0;32m--> 946\u001b[0;31m         \u001b[0mself\u001b[0m\u001b[0;34m.\u001b[0m\u001b[0m_make_engine\u001b[0m\u001b[0;34m(\u001b[0m\u001b[0mself\u001b[0m\u001b[0;34m.\u001b[0m\u001b[0mengine\u001b[0m\u001b[0;34m)\u001b[0m\u001b[0;34m\u001b[0m\u001b[0;34m\u001b[0m\u001b[0m\n\u001b[0m\u001b[1;32m    947\u001b[0m \u001b[0;34m\u001b[0m\u001b[0m\n\u001b[1;32m    948\u001b[0m     \u001b[0;32mdef\u001b[0m \u001b[0mclose\u001b[0m\u001b[0;34m(\u001b[0m\u001b[0mself\u001b[0m\u001b[0;34m)\u001b[0m\u001b[0;34m:\u001b[0m\u001b[0;34m\u001b[0m\u001b[0;34m\u001b[0m\u001b[0m\n",
      "\u001b[0;32m~/anaconda3/lib/python3.8/site-packages/pandas/io/parsers.py\u001b[0m in \u001b[0;36m_make_engine\u001b[0;34m(self, engine)\u001b[0m\n\u001b[1;32m   1176\u001b[0m     \u001b[0;32mdef\u001b[0m \u001b[0m_make_engine\u001b[0m\u001b[0;34m(\u001b[0m\u001b[0mself\u001b[0m\u001b[0;34m,\u001b[0m \u001b[0mengine\u001b[0m\u001b[0;34m=\u001b[0m\u001b[0;34m\"c\"\u001b[0m\u001b[0;34m)\u001b[0m\u001b[0;34m:\u001b[0m\u001b[0;34m\u001b[0m\u001b[0;34m\u001b[0m\u001b[0m\n\u001b[1;32m   1177\u001b[0m         \u001b[0;32mif\u001b[0m \u001b[0mengine\u001b[0m \u001b[0;34m==\u001b[0m \u001b[0;34m\"c\"\u001b[0m\u001b[0;34m:\u001b[0m\u001b[0;34m\u001b[0m\u001b[0;34m\u001b[0m\u001b[0m\n\u001b[0;32m-> 1178\u001b[0;31m             \u001b[0mself\u001b[0m\u001b[0;34m.\u001b[0m\u001b[0m_engine\u001b[0m \u001b[0;34m=\u001b[0m \u001b[0mCParserWrapper\u001b[0m\u001b[0;34m(\u001b[0m\u001b[0mself\u001b[0m\u001b[0;34m.\u001b[0m\u001b[0mf\u001b[0m\u001b[0;34m,\u001b[0m \u001b[0;34m**\u001b[0m\u001b[0mself\u001b[0m\u001b[0;34m.\u001b[0m\u001b[0moptions\u001b[0m\u001b[0;34m)\u001b[0m\u001b[0;34m\u001b[0m\u001b[0;34m\u001b[0m\u001b[0m\n\u001b[0m\u001b[1;32m   1179\u001b[0m         \u001b[0;32melse\u001b[0m\u001b[0;34m:\u001b[0m\u001b[0;34m\u001b[0m\u001b[0;34m\u001b[0m\u001b[0m\n\u001b[1;32m   1180\u001b[0m             \u001b[0;32mif\u001b[0m \u001b[0mengine\u001b[0m \u001b[0;34m==\u001b[0m \u001b[0;34m\"python\"\u001b[0m\u001b[0;34m:\u001b[0m\u001b[0;34m\u001b[0m\u001b[0;34m\u001b[0m\u001b[0m\n",
      "\u001b[0;32m~/anaconda3/lib/python3.8/site-packages/pandas/io/parsers.py\u001b[0m in \u001b[0;36m__init__\u001b[0;34m(self, src, **kwds)\u001b[0m\n\u001b[1;32m   2006\u001b[0m         \u001b[0mkwds\u001b[0m\u001b[0;34m[\u001b[0m\u001b[0;34m\"usecols\"\u001b[0m\u001b[0;34m]\u001b[0m \u001b[0;34m=\u001b[0m \u001b[0mself\u001b[0m\u001b[0;34m.\u001b[0m\u001b[0musecols\u001b[0m\u001b[0;34m\u001b[0m\u001b[0;34m\u001b[0m\u001b[0m\n\u001b[1;32m   2007\u001b[0m \u001b[0;34m\u001b[0m\u001b[0m\n\u001b[0;32m-> 2008\u001b[0;31m         \u001b[0mself\u001b[0m\u001b[0;34m.\u001b[0m\u001b[0m_reader\u001b[0m \u001b[0;34m=\u001b[0m \u001b[0mparsers\u001b[0m\u001b[0;34m.\u001b[0m\u001b[0mTextReader\u001b[0m\u001b[0;34m(\u001b[0m\u001b[0msrc\u001b[0m\u001b[0;34m,\u001b[0m \u001b[0;34m**\u001b[0m\u001b[0mkwds\u001b[0m\u001b[0;34m)\u001b[0m\u001b[0;34m\u001b[0m\u001b[0;34m\u001b[0m\u001b[0m\n\u001b[0m\u001b[1;32m   2009\u001b[0m         \u001b[0mself\u001b[0m\u001b[0;34m.\u001b[0m\u001b[0munnamed_cols\u001b[0m \u001b[0;34m=\u001b[0m \u001b[0mself\u001b[0m\u001b[0;34m.\u001b[0m\u001b[0m_reader\u001b[0m\u001b[0;34m.\u001b[0m\u001b[0munnamed_cols\u001b[0m\u001b[0;34m\u001b[0m\u001b[0;34m\u001b[0m\u001b[0m\n\u001b[1;32m   2010\u001b[0m \u001b[0;34m\u001b[0m\u001b[0m\n",
      "\u001b[0;32mpandas/_libs/parsers.pyx\u001b[0m in \u001b[0;36mpandas._libs.parsers.TextReader.__cinit__\u001b[0;34m()\u001b[0m\n",
      "\u001b[0;32mpandas/_libs/parsers.pyx\u001b[0m in \u001b[0;36mpandas._libs.parsers.TextReader._setup_parser_source\u001b[0;34m()\u001b[0m\n",
      "\u001b[0;31mFileNotFoundError\u001b[0m: [Errno 2] No such file or directory: '/Volumes/GoogleDrive/Shared drives/MediSprout/vishaal/MediSprout-notebooks/NLP Analysis/survey_data.csv'"
     ]
    }
   ],
   "source": [
    "pd.options.display.max_rows = 4000\n",
    "survey_data = pd.read_csv(r'/Volumes/GoogleDrive/Shared drives/MediSprout/vishaal/MediSprout-notebooks/NLP Analysis/survey_data.csv')\n",
    "survey_data"
   ]
  },
  {
   "cell_type": "code",
   "execution_count": null,
   "metadata": {},
   "outputs": [],
   "source": [
    "survey_data.loc[survey_data['rating'] == '1024 x 1024']"
   ]
  },
  {
   "cell_type": "code",
   "execution_count": null,
   "metadata": {},
   "outputs": [],
   "source": [
    "survey_data['rating'].dropna().astype(int)"
   ]
  },
  {
   "cell_type": "code",
   "execution_count": null,
   "metadata": {},
   "outputs": [],
   "source": [
    "survey_data.loc[survey_data['rating'] != int]"
   ]
  },
  {
   "cell_type": "code",
   "execution_count": null,
   "metadata": {},
   "outputs": [],
   "source": [
    "rating_prop = survey_data['rating'].value_counts(normalize=True) * 100\n",
    "rating_prop"
   ]
  },
  {
   "cell_type": "code",
   "execution_count": null,
   "metadata": {},
   "outputs": [],
   "source": [
    "rating_count = survey_data['rating'].value_counts()\n",
    "rating_count"
   ]
  },
  {
   "cell_type": "code",
   "execution_count": null,
   "metadata": {},
   "outputs": [],
   "source": [
    "rating_values = survey_data['rating'].value_counts().values\n",
    "rating_values"
   ]
  },
  {
   "cell_type": "code",
   "execution_count": null,
   "metadata": {},
   "outputs": [],
   "source": [
    "rating_df = pd.DataFrame(survey_data['rating'].unique())\n",
    "rating_df"
   ]
  },
  {
   "cell_type": "code",
   "execution_count": null,
   "metadata": {},
   "outputs": [],
   "source": [
    "survey_data.loc[survey_data['is_satisfied'] == '12.4.8']"
   ]
  },
  {
   "cell_type": "code",
   "execution_count": null,
   "metadata": {},
   "outputs": [],
   "source": [
    "survey_data['is_satisfied'].astype(int)"
   ]
  },
  {
   "cell_type": "code",
   "execution_count": null,
   "metadata": {},
   "outputs": [],
   "source": [
    "#survey_data['is_satisfied'] = survey_data['is_satisfied'].drop(['12.4.8'])\n",
    "satisfaction_prop = survey_data['is_satisfied'].value_counts(normalize=True) * 100"
   ]
  },
  {
   "cell_type": "code",
   "execution_count": null,
   "metadata": {},
   "outputs": [],
   "source": [
    "satisfaction_count = survey_data['is_satisfied'].value_counts()\n",
    "satisfaction_count"
   ]
  },
  {
   "cell_type": "code",
   "execution_count": null,
   "metadata": {},
   "outputs": [],
   "source": [
    "satisfaction_values = survey_data['is_satisfied'].value_counts().values\n",
    "satisfaction_values"
   ]
  },
  {
   "cell_type": "code",
   "execution_count": null,
   "metadata": {},
   "outputs": [],
   "source": [
    "satisfied_df = pd.DataFrame(survey_data['is_satisfied'].unique())"
   ]
  },
  {
   "cell_type": "code",
   "execution_count": null,
   "metadata": {},
   "outputs": [],
   "source": [
    "survey_data['rating'].value_counts()"
   ]
  },
  {
   "cell_type": "code",
   "execution_count": null,
   "metadata": {},
   "outputs": [],
   "source": [
    "survey_data.shape"
   ]
  },
  {
   "cell_type": "code",
   "execution_count": null,
   "metadata": {},
   "outputs": [],
   "source": [
    "#survey_data.replace(np.nan, 'Null',regex=True)"
   ]
  },
  {
   "cell_type": "code",
   "execution_count": null,
   "metadata": {},
   "outputs": [],
   "source": [
    "pd.crosstab(survey_data['is_satisfied'].fillna('NaN'), survey_data['rating'].fillna('NaN'), margins=True, margins_name='Total')"
   ]
  },
  {
   "cell_type": "code",
   "execution_count": null,
   "metadata": {},
   "outputs": [],
   "source": [
    "pd.pivot_table(survey_data, values = 'is_satisfied', index = 'rating', dropna=False)"
   ]
  },
  {
   "cell_type": "code",
   "execution_count": null,
   "metadata": {},
   "outputs": [],
   "source": [
    "#satisfaction proportions per rating(1 to 5)\n",
    "sat_v_rating = pd.crosstab(survey_data['is_satisfied'].fillna('NaN'), survey_data['rating'].fillna('NaN'),\\\n",
    "            margins=True, margins_name='Total', normalize='index')\n",
    "sat_v_rating"
   ]
  },
  {
   "cell_type": "code",
   "execution_count": null,
   "metadata": {},
   "outputs": [],
   "source": [
    "#patient vs clinician ratings\n",
    "pat_v_clin_rating = pd.crosstab(survey_data['source'].fillna('NaN'), survey_data['rating'].fillna('NaN'), \\\n",
    "                        margins=True, margins_name='Total', normalize='index')\n",
    "pat_v_clin_rating"
   ]
  },
  {
   "cell_type": "code",
   "execution_count": null,
   "metadata": {},
   "outputs": [],
   "source": [
    "#patient vs clinician satisfaction\n",
    "pat_vs_clin_satisfaction = pd.crosstab(survey_data['source'].fillna('NaN'), survey_data['is_satisfied'].fillna('NaN'), \\\n",
    "                        margins=True, margins_name='Total', normalize='index')\n",
    "pat_vs_clin_satisfaction"
   ]
  },
  {
   "cell_type": "code",
   "execution_count": null,
   "metadata": {},
   "outputs": [],
   "source": [
    "#mobile vs desktop\n",
    "mobile_v_desktop = pd.crosstab(survey_data['platform'].fillna('NaN'), survey_data['is_satisfied'].fillna('NaN'), \\\n",
    "                        margins=True, margins_name='Total', normalize='index')\n"
   ]
  },
  {
   "cell_type": "code",
   "execution_count": null,
   "metadata": {},
   "outputs": [],
   "source": [
    "#mobile platforms\n",
    "pd.options.display.max_rows = 4000\n",
    "only_mobile = survey_data[survey_data['is_mobile'] == 1]\n",
    "platform = pd.crosstab(only_mobile['platform'].fillna('NaN'), only_mobile['is_mobile'].fillna('NaN'), \\\n",
    "                        normalize='all')\n",
    "platform = pd.DataFrame(platform).reset_index()\n",
    "new_mobile_df = platform.rename(columns={1: 'percentage'})\n",
    "new_mobile_df\n",
    "#new_df.nlargest(5, 'percentage', keep='all')"
   ]
  },
  {
   "cell_type": "code",
   "execution_count": null,
   "metadata": {},
   "outputs": [],
   "source": [
    "desktop_platforms = pd.Series([item for item in survey_data['platform'].str.findall('^W\\w*\\s\\w*|^M\\w*\\s\\w*|^L[i,e]\\w*\\s\\w*')])\n",
    "desktop_platforms = desktop_platforms.dropna().str[0].head(2000)\n",
    "desktop_platforms"
   ]
  },
  {
   "cell_type": "code",
   "execution_count": null,
   "metadata": {},
   "outputs": [],
   "source": [
    "#desktop platforms\n",
    "desktops = survey_data[survey_data['is_mobile'] == 0]\n",
    "only_mobile = survey_data[survey_data['is_mobile'] == 1]\n",
    "platform = pd.crosstab(desktop_platforms.fillna('NaN'), only_mobile['is_mobile'].fillna('NaN'), \\\n",
    "                        normalize='all')\n",
    "platform = pd.DataFrame(platform).reset_index()\n",
    "new_desktop_df = platform.rename(columns={0: 'percentage'})\n",
    "new_desktop_df\n",
    "#new_df.nlargest(5, 'percentage', keep='all')"
   ]
  },
  {
   "cell_type": "code",
   "execution_count": null,
   "metadata": {},
   "outputs": [],
   "source": [
    "#mobile vs desktop platforms - needs to output both desktop and mobile platforms\n",
    "platform = pd.crosstab(survey_data['platform'].fillna('NaN'), survey_data['is_mobile'].fillna('NaN'), \\\n",
    "                        margins=True, margins_name='Total', normalize='all')\n",
    "platform"
   ]
  },
  {
   "cell_type": "code",
   "execution_count": null,
   "metadata": {},
   "outputs": [],
   "source": [
    "#avg satisfaction per month\n",
    "survey_data['created_on'] = pd.to_datetime(survey_data['created_on'], format='%Y-%m-%d %H:%M:%S.%f')\n",
    "survey_data['created_on_date'] = survey_data['created_on'].dt.date\n",
    "survey_data['months'] = pd.to_datetime(survey_data['created_on'], format='%Y-%m-%d %H:%M:%S.%f').dt.strftime('%Y-%m')\n",
    "avg_satisfaction = pd.crosstab(survey_data['months'], survey_data['source'], values = survey_data['is_satisfied'], \\\n",
    "                        margins=True, margins_name='Total', normalize='index', aggfunc = 'mean')\n",
    "avg_satisfaction"
   ]
  },
  {
   "cell_type": "code",
   "execution_count": null,
   "metadata": {},
   "outputs": [],
   "source": [
    "#avg rating per month\n",
    "survey_data['created_on'] = pd.to_datetime(survey_data['created_on'], format='%Y-%m-%d %H:%M:%S.%f')\n",
    "survey_data['created_on_date'] = survey_data['created_on'].dt.date\n",
    "survey_data['months'] = pd.to_datetime(survey_data['created_on'], format='%Y-%m-%d %H:%M:%S.%f').dt.strftime('%Y-%m')\n",
    "avg_rating = pd.crosstab(survey_data['months'], survey_data['source'], values = survey_data['rating'], \\\n",
    "                        margins=True, margins_name='Total', normalize='index', aggfunc='mean')\n",
    "avg_rating"
   ]
  },
  {
   "cell_type": "code",
   "execution_count": null,
   "metadata": {},
   "outputs": [],
   "source": [
    "survey_data['platform'].unique()"
   ]
  },
  {
   "cell_type": "code",
   "execution_count": null,
   "metadata": {},
   "outputs": [],
   "source": [
    "mobile_platforms = pd.Series([item for item in survey_data['platform']\\\n",
    "                              .str.findall('^Apple iP\\w*|^samsung\\sSM-\\w*|^Google\\s[a-zA-Z]\\w*\\s\\w\\s\\w*|^LGE\\s\\w*|^HTC\\s\\w*|^asus\\s\\w*|^motorola\\s\\w')])\n",
    "mobile_platforms = mobile_platforms.str[0].dropna()\n",
    "mobile_platforms"
   ]
  },
  {
   "cell_type": "code",
   "execution_count": null,
   "metadata": {},
   "outputs": [],
   "source": [
    "#apple\n",
    "apple_ = pd.Series([item for item in survey_data['platform']\\\n",
    "                    .str.findall('^Apple iP\\w*')])\n",
    "apple_platforms = apple_.str[0].dropna().head(3000)\n",
    "apple_platforms"
   ]
  },
  {
   "cell_type": "code",
   "execution_count": null,
   "metadata": {},
   "outputs": [],
   "source": [
    "apple_platforms"
   ]
  },
  {
   "cell_type": "code",
   "execution_count": null,
   "metadata": {},
   "outputs": [],
   "source": [
    "dimensions = survey_data['screen_size'].str.split('x').dropna().head(1000)\n",
    "ss1 = dimensions.apply(lambda x:x[0]).astype(int)\n",
    "ss2 = dimensions.apply(lambda x:x[1]).astype(int)\n",
    "total_res = ss1 * ss2"
   ]
  },
  {
   "cell_type": "code",
   "execution_count": null,
   "metadata": {},
   "outputs": [],
   "source": [
    "def classify_device_type(row):\n",
    "    platform = row['platform']\n",
    "    tot_res = row['total_resolution']\n",
    "    \n",
    "    if bool(re.match('Apple iP\\w*', platform)) == True and tot_res >= 1425636.0:\n",
    "        row['device_type'] = 'Tablet'\n",
    "    else:\n",
    "        row['device_type'] = np.where(tot_res < 547800.0, 'Phone',\\\n",
    "                                            np.where(tot_res > 927408.0, 'Desktop', 'Tablet'))\n",
    "    return row"
   ]
  },
  {
   "cell_type": "code",
   "execution_count": null,
   "metadata": {},
   "outputs": [],
   "source": [
    "def classify_mobile_type(row):\n",
    "    platform = row['platform']\n",
    "    \n",
    "    if row['is_mobile'] == 1:\n",
    "        if bool(re.match('Apple iP\\w*', platform)) == True:\n",
    "            row['mobile_type'] = 'iOS'\n",
    "        else:\n",
    "            row['mobile_type'] = 'Android'\n",
    "    else:\n",
    "        row['mobile_type'] = 'NA'\n",
    "    \n",
    "    return row"
   ]
  },
  {
   "cell_type": "code",
   "execution_count": null,
   "metadata": {},
   "outputs": [],
   "source": [
    "#resolution by device type\n",
    "displays_df = pd.DataFrame\\\n",
    "({'id': survey_data['id'], 'platform': survey_data['platform'],\\\n",
    "  'screen_size': survey_data['screen_size'],'ss1':ss1,'ss2':ss2, 'total_resolution': total_res,\\\n",
    "  'client_name': survey_data['client_name'], \\\n",
    "  'is_satisfied': survey_data['is_satisfied'], \\\n",
    "  'is_mobile': survey_data['is_mobile'], \\\n",
    "  'n_minute_duration': survey_data['n_minute_duration'], \\\n",
    "  'feedback': survey_data['feedback']}).dropna()\n",
    "displays_df"
   ]
  },
  {
   "cell_type": "code",
   "execution_count": null,
   "metadata": {},
   "outputs": [],
   "source": [
    "classify_mobile_type(displays_df.loc[277])"
   ]
  },
  {
   "cell_type": "code",
   "execution_count": null,
   "metadata": {},
   "outputs": [],
   "source": [
    "devices = pd.DataFrame(displays_df.apply(lambda row: classify_device_type(row), axis=1))\n",
    "devices = devices.apply(lambda row: classify_mobile_type(row), axis=1)\n",
    "devices"
   ]
  },
  {
   "cell_type": "code",
   "execution_count": null,
   "metadata": {},
   "outputs": [],
   "source": [
    "devices['feedback']"
   ]
  },
  {
   "cell_type": "code",
   "execution_count": null,
   "metadata": {},
   "outputs": [],
   "source": [
    "#Desktop: Chrome v. Firefox\n",
    "desktops_only = pd.DataFrame(devices[devices['device_type'] == 'Desktop']).reset_index()\n",
    "\n",
    "desktop_client_prop = pd.crosstab(desktops_only['platform'], desktops_only['is_satisfied'], \\\n",
    "                        margins=True, margins_name='Total', normalize='index')\n",
    "desktop_client_prop"
   ]
  },
  {
   "cell_type": "code",
   "execution_count": null,
   "metadata": {},
   "outputs": [],
   "source": [
    "#iOS v. Android v. Desktop\n",
    "mobile_only = pd.DataFrame(devices[devices['is_mobile'] == 1]).reset_index()\n",
    "\n",
    "mobile_client_prop = pd.crosstab(mobile_only['mobile_type'], mobile_only['is_satisfied'], \\\n",
    "                        margins=True, margins_name='Total', normalize='all')\n",
    "mobile_client_prop"
   ]
  },
  {
   "cell_type": "code",
   "execution_count": null,
   "metadata": {},
   "outputs": [],
   "source": [
    "#visit duration v feedback (is satisfied), call describe() to look at distributions - data.groupby('is_satisfied')['n_minute_duration'].describe()\n",
    "#data.groupby('rating')['n_minute_duration'].describe()\n",
    "#try to figure out short, medium, and long durations - define the thresholds - by feedback given(based off rating and is_satisfied) and by duration\n"
   ]
  },
  {
   "cell_type": "code",
   "execution_count": null,
   "metadata": {},
   "outputs": [],
   "source": [
    "survey_data['n_minute_duration'].describe()"
   ]
  },
  {
   "cell_type": "code",
   "execution_count": null,
   "metadata": {},
   "outputs": [],
   "source": [
    "survey_data.groupby('is_satisfied')['n_minute_duration'].describe()"
   ]
  },
  {
   "cell_type": "code",
   "execution_count": null,
   "metadata": {},
   "outputs": [],
   "source": [
    "survey_data.groupby('rating')['n_minute_duration'].describe()"
   ]
  },
  {
   "cell_type": "code",
   "execution_count": null,
   "metadata": {},
   "outputs": [],
   "source": [
    "def duration_intervals(row):\n",
    "    duration = devices['n_minute_duration'].astype(int)\n",
    "    \n",
    "    if duration <= 10.00:\n",
    "        survey_data['duration_type'] = 'Short'\n",
    "    elif duration >= 11.00 and duration <= 15.00:\n",
    "        survey_data['duration_type'] = 'Medium'\n",
    "    else:\n",
    "        survey_data['duration_type'] = 'Long'"
   ]
  },
  {
   "cell_type": "code",
   "execution_count": null,
   "metadata": {},
   "outputs": [],
   "source": [
    "devices['feedback']"
   ]
  },
  {
   "cell_type": "code",
   "execution_count": null,
   "metadata": {},
   "outputs": [],
   "source": [
    "plat_dimensions = pd.Series(displays_df.groupby('platform')['total_resolution'].unique())\n",
    "plat_dimensions"
   ]
  },
  {
   "cell_type": "code",
   "execution_count": null,
   "metadata": {},
   "outputs": [],
   "source": [
    "min_dimensions = pd.Series(displays_df.groupby('platform')['total_resolution'].min())\n",
    "min_dimensions.sort_values()"
   ]
  },
  {
   "cell_type": "code",
   "execution_count": null,
   "metadata": {},
   "outputs": [],
   "source": [
    "max_dimensions = pd.Series(displays_df.groupby('platform')['total_resolution'].max())\n",
    "max_dimensions.sort_values()"
   ]
  },
  {
   "cell_type": "code",
   "execution_count": null,
   "metadata": {},
   "outputs": [],
   "source": [
    "client_name = pd.Series(displays_df.groupby('platform')['client_name'].max())\n",
    "client_name.sort_values()"
   ]
  },
  {
   "cell_type": "code",
   "execution_count": null,
   "metadata": {},
   "outputs": [],
   "source": [
    "is_satisfied = pd.Series(displays_df.groupby('client_name')['is_satisfied'])\n",
    "is_satisfied"
   ]
  },
  {
   "cell_type": "code",
   "execution_count": null,
   "metadata": {},
   "outputs": [],
   "source": [
    "max_min_dimensions = pd.DataFrame\\\n",
    "({'min_dimensions': min_dimensions, 'plat_dimensions': plat_dimensions, 'max_dimensions': max_dimensions, 'client_name': client_name,\\\n",
    " 'is_satisfied': is_satisfied}).dropna()\n",
    "max_min_dimensions.sort_values(['max_dimensions'])\n",
    "\n",
    "max_min_dimensions = max_min_dimensions.reset_index()\n",
    "max_min_dimensions"
   ]
  },
  {
   "cell_type": "code",
   "execution_count": null,
   "metadata": {},
   "outputs": [],
   "source": [
    "def classify_device_type(row):\n",
    "    platform = row['platform']\n",
    "    max_res = row['max_dimensions']\n",
    "    \n",
    "    if bool(re.match('Apple iP\\w*', platform)) == True and max_res >= 1425636.0:\n",
    "        row['device_type'] = 'Tablet'\n",
    "    else:\n",
    "        row['device_type'] = np.where(row['max_dimensions'] < 547800.0, 'Phone',\\\n",
    "                                            np.where(row['max_dimensions'] >= 1296000.0, 'Desktop', 'Tablet'))\n",
    "    return row"
   ]
  },
  {
   "cell_type": "code",
   "execution_count": null,
   "metadata": {},
   "outputs": [],
   "source": [
    "classify_device_type(max_min_dimensions.loc[16])"
   ]
  },
  {
   "cell_type": "code",
   "execution_count": null,
   "metadata": {},
   "outputs": [],
   "source": [
    "devices = pd.DataFrame(max_min_dimensions.apply(lambda row: classify_device_type(row), axis=1))\n",
    "devices"
   ]
  },
  {
   "cell_type": "code",
   "execution_count": null,
   "metadata": {},
   "outputs": [],
   "source": [
    "max_min_dimensions.loc[16]"
   ]
  },
  {
   "cell_type": "code",
   "execution_count": null,
   "metadata": {},
   "outputs": [],
   "source": [
    "browsers = pd.Series(survey_data['client_name']).str.findall('^Chrome|^Firefox')\n",
    "browsers = browsers.dropna().str[0]\n",
    "browsers"
   ]
  },
  {
   "cell_type": "code",
   "execution_count": null,
   "metadata": {},
   "outputs": [],
   "source": [
    "desktop_type = pd.DataFrame(devices.loc[devices['device_type'] == 'Desktop']).reset_index()\n",
    "desktop_type"
   ]
  },
  {
   "cell_type": "code",
   "execution_count": null,
   "metadata": {},
   "outputs": [],
   "source": [
    "client_prop = pd.crosstab(devices['client_name'], desktop_type['is_satisfied'], \\\n",
    "                        margins=True, margins_name='Total', normalize='index')\n",
    "client_prop"
   ]
  },
  {
   "cell_type": "code",
   "execution_count": null,
   "metadata": {},
   "outputs": [],
   "source": []
  }
 ],
 "metadata": {
  "kernelspec": {
   "display_name": "Python 3",
   "language": "python",
   "name": "python3"
  },
  "language_info": {
   "codemirror_mode": {
    "name": "ipython",
    "version": 3
   },
   "file_extension": ".py",
   "mimetype": "text/x-python",
   "name": "python",
   "nbconvert_exporter": "python",
   "pygments_lexer": "ipython3",
   "version": "3.8.5"
  }
 },
 "nbformat": 4,
 "nbformat_minor": 4
}
